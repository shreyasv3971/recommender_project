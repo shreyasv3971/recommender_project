{
 "cells": [
  {
   "cell_type": "code",
   "execution_count": 1,
   "metadata": {
    "colab": {},
    "colab_type": "code",
    "id": "lupU-E6jF4rX"
   },
   "outputs": [],
   "source": [
    "import numpy as np\n",
    "from utils import Util\n",
    "from rbm import RBM\n",
    "from IPython.display import display as d"
   ]
  },
  {
   "cell_type": "code",
   "execution_count": null,
   "metadata": {},
   "outputs": [],
   "source": [
    "\n"
   ]
  },
  {
   "cell_type": "code",
   "execution_count": 2,
   "metadata": {
    "colab": {
     "base_uri": "https://localhost:8080/",
     "height": 136
    },
    "colab_type": "code",
    "id": "ooF69zE8F4rg",
    "outputId": "47e91d5c-0bc0-488a-862e-3870bddac901",
    "scrolled": true
   },
   "outputs": [
    {
     "name": "stdout",
     "output_type": "stream",
     "text": [
      "Reading the data\n",
      "Extracting num_rows from ratings\n",
      "Preprocessing the dataset\n",
      "Free energy required, dividing into train and validation sets\n",
      "Total size of the data is: 5000\n",
      "Size of the training data is: 3750\n",
      "Size of the validation data is: 1250\n"
     ]
    }
   ],
   "source": [
    "util = Util()\n",
    "dir = 'etl/'\n",
    "rows = 5000\n",
    "ratings, attractions = util.read_data(dir)\n",
    "ratings = util.clean_subset(ratings, rows)\n",
    "num_vis = len(ratings)\n",
    "free_energy = True\n",
    "train = util.preprocess(ratings)\n",
    "valid = None\n",
    "if free_energy:\n",
    "    train, valid = util.split_data(train)\n",
    "H = 128\n",
    "user = 1\n",
    "alpha = 0.01\n",
    "w = np.random.normal(loc=0, scale=0.01, size=[num_vis, H])\n",
    "rbm = RBM(alpha, H, num_vis)\n",
    "epochs = 20\n",
    "batch_size = 8\n",
    "\n",
    "v = True"
   ]
  },
  {
   "cell_type": "code",
   "execution_count": 3,
   "metadata": {
    "colab": {
     "base_uri": "https://localhost:8080/",
     "height": 1020
    },
    "colab_type": "code",
    "id": "J5PJgwXUF4rr",
    "outputId": "3f073abd-ea4f-4804-c536-fd07879007af"
   },
   "outputs": [
    {
     "name": "stdout",
     "output_type": "stream",
     "text": [
      "Shape of Training Data: (3750, 4)\n",
      "Training RBM with 20 epochs and batch size: 8\n",
      "Starting the training process\n",
      "Shapes: v=(8, 4), W=(5000, 128), hb=(128,), vb=(5000,)\n"
     ]
    },
    {
     "ename": "InvalidArgumentError",
     "evalue": "{{function_node __wrapped__MatMul_device_/job:localhost/replica:0/task:0/device:CPU:0}} Matrix size-incompatible: In[0]: [8,4], In[1]: [5000,128] [Op:MatMul] name: ",
     "output_type": "error",
     "traceback": [
      "\u001b[1;31m---------------------------------------------------------------------------\u001b[0m",
      "\u001b[1;31mInvalidArgumentError\u001b[0m                      Traceback (most recent call last)",
      "\u001b[1;32mc:\\Users\\shrey\\Downloads\\Intelligent-Travel-Recommendation-System-master (1)\\Intelligent-Travel-Recommendation-System-master\\rbm_training.ipynb Cell 4\u001b[0m line \u001b[0;36m2\n\u001b[0;32m      <a href='vscode-notebook-cell:/c%3A/Users/shrey/Downloads/Intelligent-Travel-Recommendation-System-master%20%281%29/Intelligent-Travel-Recommendation-System-master/rbm_training.ipynb#W2sZmlsZQ%3D%3D?line=0'>1</a>\u001b[0m filename \u001b[39m=\u001b[39m \u001b[39m\"\u001b[39m\u001b[39me\u001b[39m\u001b[39m\"\u001b[39m\u001b[39m+\u001b[39m\u001b[39mstr\u001b[39m(epochs)\u001b[39m+\u001b[39m\u001b[39m\"\u001b[39m\u001b[39m_r\u001b[39m\u001b[39m\"\u001b[39m\u001b[39m+\u001b[39m\u001b[39mstr\u001b[39m(rows)\u001b[39m+\u001b[39m\u001b[39m\"\u001b[39m\u001b[39m_lr\u001b[39m\u001b[39m\"\u001b[39m\u001b[39m+\u001b[39m\u001b[39mstr\u001b[39m(alpha)\u001b[39m+\u001b[39m\u001b[39m\"\u001b[39m\u001b[39m_hu\u001b[39m\u001b[39m\"\u001b[39m\u001b[39m+\u001b[39m\u001b[39mstr\u001b[39m(H)\u001b[39m+\u001b[39m\u001b[39m\"\u001b[39m\u001b[39m_bs\u001b[39m\u001b[39m\"\u001b[39m\u001b[39m+\u001b[39m\u001b[39mstr\u001b[39m(batch_size)\n\u001b[1;32m----> <a href='vscode-notebook-cell:/c%3A/Users/shrey/Downloads/Intelligent-Travel-Recommendation-System-master%20%281%29/Intelligent-Travel-Recommendation-System-master/rbm_training.ipynb#W2sZmlsZQ%3D%3D?line=1'>2</a>\u001b[0m reco, prv_w, prv_vb, prv_hb \u001b[39m=\u001b[39m rbm\u001b[39m.\u001b[39;49mtraining(train, valid, user, epochs, batch_size, free_energy, v, filename)\n\u001b[0;32m      <a href='vscode-notebook-cell:/c%3A/Users/shrey/Downloads/Intelligent-Travel-Recommendation-System-master%20%281%29/Intelligent-Travel-Recommendation-System-master/rbm_training.ipynb#W2sZmlsZQ%3D%3D?line=2'>3</a>\u001b[0m reco_l, prv_w_l, prv_vb_l, prv_hb_l \u001b[39m=\u001b[39m rbm\u001b[39m.\u001b[39mload_predict(filename, train, user)\n",
      "File \u001b[1;32mc:\\Users\\shrey\\Downloads\\Intelligent-Travel-Recommendation-System-master (1)\\Intelligent-Travel-Recommendation-System-master\\rbm.py:69\u001b[0m, in \u001b[0;36mRBM.training\u001b[1;34m(self, train, valid, user, epochs, batchsize, free_energy, verbose, filename)\u001b[0m\n\u001b[0;32m     67\u001b[0m \u001b[39mfor\u001b[39;00m start, end \u001b[39min\u001b[39;00m \u001b[39mzip\u001b[39m(\u001b[39mrange\u001b[39m(\u001b[39m0\u001b[39m, \u001b[39mlen\u001b[39m(train), batchsize), \u001b[39mrange\u001b[39m(batchsize, \u001b[39mlen\u001b[39m(train), batchsize)):\n\u001b[0;32m     68\u001b[0m     batch \u001b[39m=\u001b[39m train[start:end]\n\u001b[1;32m---> 69\u001b[0m     update_op, err_sum \u001b[39m=\u001b[39m \u001b[39mself\u001b[39;49m\u001b[39m.\u001b[39;49mtraining_step(batch)\n\u001b[0;32m     70\u001b[0m     cur_err \u001b[39m=\u001b[39m err_sum\u001b[39m.\u001b[39mnumpy()\n\u001b[0;32m     72\u001b[0m \u001b[39mself\u001b[39m\u001b[39m.\u001b[39merrors\u001b[39m.\u001b[39mappend(cur_err)\n",
      "File \u001b[1;32mc:\\Users\\shrey\\Downloads\\Intelligent-Travel-Recommendation-System-master (1)\\Intelligent-Travel-Recommendation-System-master\\rbm.py:52\u001b[0m, in \u001b[0;36mRBM.training_step\u001b[1;34m(self, v)\u001b[0m\n\u001b[0;32m     51\u001b[0m \u001b[39mdef\u001b[39;00m \u001b[39mtraining_step\u001b[39m(\u001b[39mself\u001b[39m, v):\n\u001b[1;32m---> 52\u001b[0m     h0, vk \u001b[39m=\u001b[39m \u001b[39mself\u001b[39;49m\u001b[39m.\u001b[39;49mgibbs_sampling(v)\n\u001b[0;32m     53\u001b[0m     hk, _ \u001b[39m=\u001b[39m \u001b[39mself\u001b[39m\u001b[39m.\u001b[39mgibbs_sampling(vk)\n\u001b[0;32m     54\u001b[0m     update_op \u001b[39m=\u001b[39m \u001b[39mself\u001b[39m\u001b[39m.\u001b[39mupdate_weights(v, vk, h0, hk)\n",
      "File \u001b[1;32mc:\\Users\\shrey\\Downloads\\Intelligent-Travel-Recommendation-System-master (1)\\Intelligent-Travel-Recommendation-System-master\\rbm.py:33\u001b[0m, in \u001b[0;36mRBM.gibbs_sampling\u001b[1;34m(self, v)\u001b[0m\n\u001b[0;32m     30\u001b[0m v \u001b[39m=\u001b[39m tf\u001b[39m.\u001b[39mcast(v, dtype\u001b[39m=\u001b[39mtf\u001b[39m.\u001b[39mfloat32)\n\u001b[0;32m     31\u001b[0m \u001b[39mprint\u001b[39m(\u001b[39m\"\u001b[39m\u001b[39mShapes: v=\u001b[39m\u001b[39m{}\u001b[39;00m\u001b[39m, W=\u001b[39m\u001b[39m{}\u001b[39;00m\u001b[39m, hb=\u001b[39m\u001b[39m{}\u001b[39;00m\u001b[39m, vb=\u001b[39m\u001b[39m{}\u001b[39;00m\u001b[39m\"\u001b[39m\u001b[39m.\u001b[39mformat(v\u001b[39m.\u001b[39mshape, \u001b[39mself\u001b[39m\u001b[39m.\u001b[39mW\u001b[39m.\u001b[39mshape, \u001b[39mself\u001b[39m\u001b[39m.\u001b[39mhb\u001b[39m.\u001b[39mshape, \u001b[39mself\u001b[39m\u001b[39m.\u001b[39mvb\u001b[39m.\u001b[39mshape))\n\u001b[1;32m---> 33\u001b[0m h \u001b[39m=\u001b[39m tf\u001b[39m.\u001b[39mnn\u001b[39m.\u001b[39msigmoid(tf\u001b[39m.\u001b[39;49mmatmul(v, \u001b[39mself\u001b[39;49m\u001b[39m.\u001b[39;49mW) \u001b[39m+\u001b[39m \u001b[39mself\u001b[39m\u001b[39m.\u001b[39mhb)\n\u001b[0;32m     34\u001b[0m h \u001b[39m=\u001b[39m tf\u001b[39m.\u001b[39mnn\u001b[39m.\u001b[39mrelu(tf\u001b[39m.\u001b[39msign(h \u001b[39m-\u001b[39m tf\u001b[39m.\u001b[39mrandom\u001b[39m.\u001b[39muniform(tf\u001b[39m.\u001b[39mshape(h))))\n\u001b[0;32m     35\u001b[0m v_ \u001b[39m=\u001b[39m tf\u001b[39m.\u001b[39mnn\u001b[39m.\u001b[39msigmoid(tf\u001b[39m.\u001b[39mmatmul(h, tf\u001b[39m.\u001b[39mtranspose(\u001b[39mself\u001b[39m\u001b[39m.\u001b[39mW)) \u001b[39m+\u001b[39m \u001b[39mself\u001b[39m\u001b[39m.\u001b[39mvb)\n",
      "File \u001b[1;32m~\\AppData\\Local\\Packages\\PythonSoftwareFoundation.Python.3.11_qbz5n2kfra8p0\\LocalCache\\local-packages\\Python311\\site-packages\\tensorflow\\python\\util\\traceback_utils.py:153\u001b[0m, in \u001b[0;36mfilter_traceback.<locals>.error_handler\u001b[1;34m(*args, **kwargs)\u001b[0m\n\u001b[0;32m    151\u001b[0m \u001b[39mexcept\u001b[39;00m \u001b[39mException\u001b[39;00m \u001b[39mas\u001b[39;00m e:\n\u001b[0;32m    152\u001b[0m   filtered_tb \u001b[39m=\u001b[39m _process_traceback_frames(e\u001b[39m.\u001b[39m__traceback__)\n\u001b[1;32m--> 153\u001b[0m   \u001b[39mraise\u001b[39;00m e\u001b[39m.\u001b[39mwith_traceback(filtered_tb) \u001b[39mfrom\u001b[39;00m \u001b[39mNone\u001b[39;00m\n\u001b[0;32m    154\u001b[0m \u001b[39mfinally\u001b[39;00m:\n\u001b[0;32m    155\u001b[0m   \u001b[39mdel\u001b[39;00m filtered_tb\n",
      "File \u001b[1;32m~\\AppData\\Local\\Packages\\PythonSoftwareFoundation.Python.3.11_qbz5n2kfra8p0\\LocalCache\\local-packages\\Python311\\site-packages\\tensorflow\\python\\framework\\ops.py:5888\u001b[0m, in \u001b[0;36mraise_from_not_ok_status\u001b[1;34m(e, name)\u001b[0m\n\u001b[0;32m   5886\u001b[0m \u001b[39mdef\u001b[39;00m \u001b[39mraise_from_not_ok_status\u001b[39m(e, name) \u001b[39m-\u001b[39m\u001b[39m>\u001b[39m NoReturn:\n\u001b[0;32m   5887\u001b[0m   e\u001b[39m.\u001b[39mmessage \u001b[39m+\u001b[39m\u001b[39m=\u001b[39m (\u001b[39m\"\u001b[39m\u001b[39m name: \u001b[39m\u001b[39m\"\u001b[39m \u001b[39m+\u001b[39m \u001b[39mstr\u001b[39m(name \u001b[39mif\u001b[39;00m name \u001b[39mis\u001b[39;00m \u001b[39mnot\u001b[39;00m \u001b[39mNone\u001b[39;00m \u001b[39melse\u001b[39;00m \u001b[39m\"\u001b[39m\u001b[39m\"\u001b[39m))\n\u001b[1;32m-> 5888\u001b[0m   \u001b[39mraise\u001b[39;00m core\u001b[39m.\u001b[39m_status_to_exception(e) \u001b[39mfrom\u001b[39;00m \u001b[39mNone\u001b[39;00m\n",
      "\u001b[1;31mInvalidArgumentError\u001b[0m: {{function_node __wrapped__MatMul_device_/job:localhost/replica:0/task:0/device:CPU:0}} Matrix size-incompatible: In[0]: [8,4], In[1]: [5000,128] [Op:MatMul] name: "
     ]
    }
   ],
   "source": [
    "filename = \"e\"+str(epochs)+\"_r\"+str(rows)+\"_lr\"+str(alpha)+\"_hu\"+str(H)+\"_bs\"+str(batch_size)\n",
    "reco, prv_w, prv_vb, prv_hb = rbm.training(train, valid, user, epochs, batch_size, free_energy, v, filename)\n",
    "reco_l, prv_w_l, prv_vb_l, prv_hb_l = rbm.load_predict(filename, train, user)"
   ]
  },
  {
   "cell_type": "code",
   "execution_count": null,
   "metadata": {
    "colab": {
     "base_uri": "https://localhost:8080/",
     "height": 34
    },
    "colab_type": "code",
    "id": "yzzhmao2F4rz",
    "outputId": "b2996fcb-c4eb-40da-aa3f-52c239320015"
   },
   "outputs": [
    {
     "name": "stdout",
     "output_type": "stream",
     "text": [
      "Model saved and loaded successfully\n"
     ]
    }
   ],
   "source": [
    "if np.all(prv_w == prv_w_l) and np.all(prv_vb == prv_vb_l) and np.all(prv_hb == prv_hb_l):\n",
    "    print (\"Model saved and loaded successfully\")"
   ]
  },
  {
   "cell_type": "code",
   "execution_count": null,
   "metadata": {
    "colab": {},
    "colab_type": "code",
    "id": "Lt77vmlwF4r7",
    "scrolled": true
   },
   "outputs": [],
   "source": [
    "unseen, seen = rbm.calculate_scores(ratings, attractions, reco_l, user)\n",
    "rbm.export(unseen, seen, 'recommendations/'+filename, str(user))"
   ]
  }
 ],
 "metadata": {
  "accelerator": "GPU",
  "colab": {
   "name": "rbm_attraction.ipynb",
   "provenance": [],
   "version": "0.3.2"
  },
  "kernelspec": {
   "display_name": "Python 3",
   "language": "python",
   "name": "python3"
  },
  "language_info": {
   "codemirror_mode": {
    "name": "ipython",
    "version": 3
   },
   "file_extension": ".py",
   "mimetype": "text/x-python",
   "name": "python",
   "nbconvert_exporter": "python",
   "pygments_lexer": "ipython3",
   "version": "3.11.6"
  }
 },
 "nbformat": 4,
 "nbformat_minor": 1
}
