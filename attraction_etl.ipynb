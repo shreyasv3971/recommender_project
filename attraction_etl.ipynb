{
 "cells": [
  {
   "cell_type": "code",
   "execution_count": 1,
   "metadata": {},
   "outputs": [],
   "source": [
    "from pyspark import SparkContext as sc\n",
    "from pyspark.sql import SQLContext\n",
    "from pyspark.sql import SparkSession, functions, types\n",
    "from pyspark.sql.types import *\n",
    "from IPython.display import display\n",
    "import pandas as pd\n",
    "import math, re, urllib, requests\n",
    "from datetime import datetime as dt"
   ]
  },
  {
   "cell_type": "code",
   "execution_count": 2,
   "metadata": {},
   "outputs": [
    {
     "name": "stderr",
     "output_type": "stream",
     "text": [
      "C:\\Users\\shrey\\AppData\\Local\\Packages\\PythonSoftwareFoundation.Python.3.11_qbz5n2kfra8p0\\LocalCache\\local-packages\\Python311\\site-packages\\pyspark\\sql\\context.py:113: FutureWarning: Deprecated in 3.0.0. Use SparkSession.builder.getOrCreate() instead.\n",
      "  warnings.warn(\n"
     ]
    }
   ],
   "source": [
    "sc = sc(appName=\"attraction\")\n",
    "sqlContext = SQLContext(sc)\n",
    "spark = SparkSession.builder.appName('attraction analysis').getOrCreate()"
   ]
  },
  {
   "cell_type": "code",
   "execution_count": 3,
   "metadata": {},
   "outputs": [],
   "source": [
    "det_path = 'outputs/attraction_details/part-00000-24d79c41-ab21-4f52-bb5e-fed77bf823f8-c000.snappy.parquet'\n",
    "rev_path = 'outputs/attraction_reviews/*'"
   ]
  },
  {
   "cell_type": "code",
   "execution_count": 4,
   "metadata": {},
   "outputs": [],
   "source": [
    "det_df = spark.read.parquet(det_path)\n",
    "det_df.createOrReplaceTempView('det_df')"
   ]
  },
  {
   "cell_type": "code",
   "execution_count": 5,
   "metadata": {},
   "outputs": [
    {
     "data": {
      "text/plain": [
       "1986"
      ]
     },
     "metadata": {},
     "output_type": "display_data"
    },
    {
     "data": {
      "text/html": [
       "<div>\n",
       "<style scoped>\n",
       "    .dataframe tbody tr th:only-of-type {\n",
       "        vertical-align: middle;\n",
       "    }\n",
       "\n",
       "    .dataframe tbody tr th {\n",
       "        vertical-align: top;\n",
       "    }\n",
       "\n",
       "    .dataframe thead th {\n",
       "        text-align: right;\n",
       "    }\n",
       "</style>\n",
       "<table border=\"1\" class=\"dataframe\">\n",
       "  <thead>\n",
       "    <tr style=\"text-align: right;\">\n",
       "      <th></th>\n",
       "      <th>attraction_id</th>\n",
       "      <th>city</th>\n",
       "      <th>country</th>\n",
       "      <th>location</th>\n",
       "      <th>name</th>\n",
       "      <th>price</th>\n",
       "      <th>province</th>\n",
       "      <th>rating</th>\n",
       "    </tr>\n",
       "  </thead>\n",
       "  <tbody>\n",
       "    <tr>\n",
       "      <th>0</th>\n",
       "      <td>0</td>\n",
       "      <td>vancouver</td>\n",
       "      <td>canada</td>\n",
       "      <td>{\"lat\":49.1978322,\"lng\":-123.0649959}</td>\n",
       "      <td>vancouver_city_sightseeing_tour</td>\n",
       "      <td>80.00</td>\n",
       "      <td>british_columbia</td>\n",
       "      <td>4.5</td>\n",
       "    </tr>\n",
       "    <tr>\n",
       "      <th>1</th>\n",
       "      <td>1</td>\n",
       "      <td>vancouver</td>\n",
       "      <td>canada</td>\n",
       "      <td>{\"lat\":49.1978322,\"lng\":-123.0649959}</td>\n",
       "      <td>vancouver_to_victoria_and_butchart_gardens_tou...</td>\n",
       "      <td>210.00</td>\n",
       "      <td>british_columbia</td>\n",
       "      <td>5.0</td>\n",
       "    </tr>\n",
       "    <tr>\n",
       "      <th>2</th>\n",
       "      <td>2</td>\n",
       "      <td>montreal</td>\n",
       "      <td>canada</td>\n",
       "      <td>{\"lat\":45.5001458,\"lng\":-73.5720264}</td>\n",
       "      <td>quebec_city_and_montmorency_falls_day_trip_fro...</td>\n",
       "      <td>115.00</td>\n",
       "      <td>quebec</td>\n",
       "      <td>4.5</td>\n",
       "    </tr>\n",
       "    <tr>\n",
       "      <th>3</th>\n",
       "      <td>3</td>\n",
       "      <td>toronto</td>\n",
       "      <td>canada</td>\n",
       "      <td>{\"lat\":43.6561507,\"lng\":-79.3842642}</td>\n",
       "      <td>niagara_falls_day_trip_from_toronto</td>\n",
       "      <td>169.00</td>\n",
       "      <td>ontario</td>\n",
       "      <td>5.0</td>\n",
       "    </tr>\n",
       "    <tr>\n",
       "      <th>4</th>\n",
       "      <td>4</td>\n",
       "      <td>niagara_falls</td>\n",
       "      <td>canada</td>\n",
       "      <td>{\"lat\":43.0857136,\"lng\":-79.0824311}</td>\n",
       "      <td>best_of_niagara_falls_tour_from_niagara_falls,...</td>\n",
       "      <td>158.00</td>\n",
       "      <td>ontario</td>\n",
       "      <td>5.0</td>\n",
       "    </tr>\n",
       "    <tr>\n",
       "      <th>5</th>\n",
       "      <td>5</td>\n",
       "      <td>niagara_falls</td>\n",
       "      <td>canada</td>\n",
       "      <td>{\"lat\":43.102436,\"lng\":-78.961638}</td>\n",
       "      <td>niagara_falls_in_one_day:_deluxe_sightseeing_t...</td>\n",
       "      <td>204.42</td>\n",
       "      <td>ontario</td>\n",
       "      <td>5.0</td>\n",
       "    </tr>\n",
       "    <tr>\n",
       "      <th>6</th>\n",
       "      <td>6</td>\n",
       "      <td>vancouver</td>\n",
       "      <td>canada</td>\n",
       "      <td>{\"lat\":49.1978322,\"lng\":-123.0649959}</td>\n",
       "      <td>whistler_small-group_day_trip_from_vancouver</td>\n",
       "      <td>145.00</td>\n",
       "      <td>british_columbia</td>\n",
       "      <td>5.0</td>\n",
       "    </tr>\n",
       "    <tr>\n",
       "      <th>7</th>\n",
       "      <td>7</td>\n",
       "      <td>niagara_falls</td>\n",
       "      <td>canada</td>\n",
       "      <td>{\"lat\":43.0857136,\"lng\":-79.0824311}</td>\n",
       "      <td>ultimate_niagara_falls_tour_plus_helicopter_ri...</td>\n",
       "      <td>317.42</td>\n",
       "      <td>ontario</td>\n",
       "      <td>5.0</td>\n",
       "    </tr>\n",
       "    <tr>\n",
       "      <th>8</th>\n",
       "      <td>8</td>\n",
       "      <td>vancouver_island</td>\n",
       "      <td>canada</td>\n",
       "      <td>nil</td>\n",
       "      <td>local_food,_craft_beverage_and_estate_winery_t...</td>\n",
       "      <td>150.00</td>\n",
       "      <td>british_columbia</td>\n",
       "      <td>5.0</td>\n",
       "    </tr>\n",
       "    <tr>\n",
       "      <th>9</th>\n",
       "      <td>9</td>\n",
       "      <td>vancouver</td>\n",
       "      <td>canada</td>\n",
       "      <td>{\"lat\":49.2869235,\"lng\":-123.12216}</td>\n",
       "      <td>private_tour:_vancouver_to_victoria_island</td>\n",
       "      <td>670.00</td>\n",
       "      <td>british_columbia</td>\n",
       "      <td>5.0</td>\n",
       "    </tr>\n",
       "    <tr>\n",
       "      <th>10</th>\n",
       "      <td>10</td>\n",
       "      <td>niagara_falls</td>\n",
       "      <td>canada</td>\n",
       "      <td>nil</td>\n",
       "      <td>private_custom-made_niagara_falls_wine,_beer,_...</td>\n",
       "      <td>139.00</td>\n",
       "      <td>ontario</td>\n",
       "      <td>5.0</td>\n",
       "    </tr>\n",
       "  </tbody>\n",
       "</table>\n",
       "</div>"
      ],
      "text/plain": [
       "    attraction_id              city country  \\\n",
       "0               0         vancouver  canada   \n",
       "1               1         vancouver  canada   \n",
       "2               2          montreal  canada   \n",
       "3               3           toronto  canada   \n",
       "4               4     niagara_falls  canada   \n",
       "5               5     niagara_falls  canada   \n",
       "6               6         vancouver  canada   \n",
       "7               7     niagara_falls  canada   \n",
       "8               8  vancouver_island  canada   \n",
       "9               9         vancouver  canada   \n",
       "10             10     niagara_falls  canada   \n",
       "\n",
       "                                 location  \\\n",
       "0   {\"lat\":49.1978322,\"lng\":-123.0649959}   \n",
       "1   {\"lat\":49.1978322,\"lng\":-123.0649959}   \n",
       "2    {\"lat\":45.5001458,\"lng\":-73.5720264}   \n",
       "3    {\"lat\":43.6561507,\"lng\":-79.3842642}   \n",
       "4    {\"lat\":43.0857136,\"lng\":-79.0824311}   \n",
       "5      {\"lat\":43.102436,\"lng\":-78.961638}   \n",
       "6   {\"lat\":49.1978322,\"lng\":-123.0649959}   \n",
       "7    {\"lat\":43.0857136,\"lng\":-79.0824311}   \n",
       "8                                     nil   \n",
       "9     {\"lat\":49.2869235,\"lng\":-123.12216}   \n",
       "10                                    nil   \n",
       "\n",
       "                                                 name   price  \\\n",
       "0                     vancouver_city_sightseeing_tour   80.00   \n",
       "1   vancouver_to_victoria_and_butchart_gardens_tou...  210.00   \n",
       "2   quebec_city_and_montmorency_falls_day_trip_fro...  115.00   \n",
       "3                 niagara_falls_day_trip_from_toronto  169.00   \n",
       "4   best_of_niagara_falls_tour_from_niagara_falls,...  158.00   \n",
       "5   niagara_falls_in_one_day:_deluxe_sightseeing_t...  204.42   \n",
       "6        whistler_small-group_day_trip_from_vancouver  145.00   \n",
       "7   ultimate_niagara_falls_tour_plus_helicopter_ri...  317.42   \n",
       "8   local_food,_craft_beverage_and_estate_winery_t...  150.00   \n",
       "9          private_tour:_vancouver_to_victoria_island  670.00   \n",
       "10  private_custom-made_niagara_falls_wine,_beer,_...  139.00   \n",
       "\n",
       "            province  rating  \n",
       "0   british_columbia     4.5  \n",
       "1   british_columbia     5.0  \n",
       "2             quebec     4.5  \n",
       "3            ontario     5.0  \n",
       "4            ontario     5.0  \n",
       "5            ontario     5.0  \n",
       "6   british_columbia     5.0  \n",
       "7            ontario     5.0  \n",
       "8   british_columbia     5.0  \n",
       "9   british_columbia     5.0  \n",
       "10           ontario     5.0  "
      ]
     },
     "metadata": {},
     "output_type": "display_data"
    }
   ],
   "source": [
    "display(det_df.count())\n",
    "display(det_df.orderBy('attraction_id').toPandas().head(11))"
   ]
  },
  {
   "cell_type": "code",
   "execution_count": 6,
   "metadata": {},
   "outputs": [],
   "source": [
    "clean_loc_udf = functions.udf(lambda x: re.sub('things_to_do_in_','',x),StringType())\n",
    "det_df = det_df.withColumn('city',clean_loc_udf(det_df.city))\n",
    "det_df = det_df.withColumn('country',clean_loc_udf(det_df.country))"
   ]
  },
  {
   "cell_type": "code",
   "execution_count": 7,
   "metadata": {},
   "outputs": [
    {
     "data": {
      "text/plain": [
       "1986"
      ]
     },
     "metadata": {},
     "output_type": "display_data"
    }
   ],
   "source": [
    "rat_nonull = det_df.where(det_df.rating.isNull()).withColumn(\"rating\", functions.lit(-1))\n",
    "out_df = det_df.where(det_df.rating.isNotNull()).union(rat_nonull)\n",
    "display(out_df.count())\n",
    "out_df.createOrReplaceTempView('out_df')"
   ]
  },
  {
   "cell_type": "code",
   "execution_count": 8,
   "metadata": {},
   "outputs": [
    {
     "ename": "AnalysisException",
     "evalue": "[UNRESOLVED_COLUMN.WITH_SUGGESTION] A column or function parameter with name `category` cannot be resolved. Did you mean one of the following? [`city`, `country`, `location`, `name`, `rating`].; line 1 pos 17;\n'Aggregate [province#6, 'category], [province#6, 'category, avg(rating#7) AS avg_rating#98]\n+- Filter NOT (rating#7 = cast(-1 as double))\n   +- SubqueryAlias out_df\n      +- View (`out_df`, [attraction_id#0L,city#31,country#41,location#3,name#4,price#5,province#6,rating#7])\n         +- Union false, false\n            :- Filter isnotnull(rating#7)\n            :  +- Project [attraction_id#0L, city#31, <lambda>(country#2)#40 AS country#41, location#3, name#4, price#5, province#6, rating#7]\n            :     +- Project [attraction_id#0L, <lambda>(city#1)#30 AS city#31, country#2, location#3, name#4, price#5, province#6, rating#7]\n            :        +- Relation [attraction_id#0L,city#1,country#2,location#3,name#4,price#5,province#6,rating#7] parquet\n            +- Project [attraction_id#67L, city#68, country#69, location#70, name#71, price#72, province#73, cast(rating#74 as double) AS rating#75]\n               +- Project [attraction_id#59L AS attraction_id#67L, city#31 AS city#68, country#41 AS country#69, location#62 AS location#70, name#63 AS name#71, price#64 AS price#72, province#65 AS province#73, rating#50 AS rating#74]\n                  +- Project [attraction_id#59L, city#31, country#41, location#62, name#63, price#64, province#65, -1 AS rating#50]\n                     +- Filter isnull(rating#66)\n                        +- Project [attraction_id#59L, city#31, <lambda>(country#61)#40 AS country#41, location#62, name#63, price#64, province#65, rating#66]\n                           +- Project [attraction_id#59L, <lambda>(city#60)#30 AS city#31, country#61, location#62, name#63, price#64, province#65, rating#66]\n                              +- Relation [attraction_id#59L,city#60,country#61,location#62,name#63,price#64,province#65,rating#66] parquet\n",
     "output_type": "error",
     "traceback": [
      "\u001b[1;31m---------------------------------------------------------------------------\u001b[0m",
      "\u001b[1;31mAnalysisException\u001b[0m                         Traceback (most recent call last)",
      "\u001b[1;32mc:\\Users\\shrey\\Downloads\\Intelligent-Travel-Recommendation-System-master (1)\\Intelligent-Travel-Recommendation-System-master\\attraction_etl.ipynb Cell 8\u001b[0m line \u001b[0;36m4\n\u001b[0;32m      <a href='vscode-notebook-cell:/c%3A/Users/shrey/Downloads/Intelligent-Travel-Recommendation-System-master%20%281%29/Intelligent-Travel-Recommendation-System-master/attraction_etl.ipynb#X10sZmlsZQ%3D%3D?line=0'>1</a>\u001b[0m \u001b[39mdef\u001b[39;00m \u001b[39mmyround\u001b[39m(x, base\u001b[39m=\u001b[39m\u001b[39m.5\u001b[39m):\n\u001b[0;32m      <a href='vscode-notebook-cell:/c%3A/Users/shrey/Downloads/Intelligent-Travel-Recommendation-System-master%20%281%29/Intelligent-Travel-Recommendation-System-master/attraction_etl.ipynb#X10sZmlsZQ%3D%3D?line=1'>2</a>\u001b[0m     \u001b[39mreturn\u001b[39;00m \u001b[39mfloat\u001b[39m(\u001b[39mround\u001b[39m(x\u001b[39m/\u001b[39mbase)\u001b[39m*\u001b[39mbase)\n\u001b[1;32m----> <a href='vscode-notebook-cell:/c%3A/Users/shrey/Downloads/Intelligent-Travel-Recommendation-System-master%20%281%29/Intelligent-Travel-Recommendation-System-master/attraction_etl.ipynb#X10sZmlsZQ%3D%3D?line=3'>4</a>\u001b[0m avg_rat_df \u001b[39m=\u001b[39m spark\u001b[39m.\u001b[39;49msql(\u001b[39m\"\u001b[39;49m\u001b[39mSELECT province, category, AVG(rating) as avg_rating FROM out_df WHERE rating != -1 GROUP BY province, category\u001b[39;49m\u001b[39m\"\u001b[39;49m)\n\u001b[0;32m      <a href='vscode-notebook-cell:/c%3A/Users/shrey/Downloads/Intelligent-Travel-Recommendation-System-master%20%281%29/Intelligent-Travel-Recommendation-System-master/attraction_etl.ipynb#X10sZmlsZQ%3D%3D?line=4'>5</a>\u001b[0m round_udf \u001b[39m=\u001b[39m functions\u001b[39m.\u001b[39mudf(\u001b[39mlambda\u001b[39;00m x: myround(x), FloatType())\n\u001b[0;32m      <a href='vscode-notebook-cell:/c%3A/Users/shrey/Downloads/Intelligent-Travel-Recommendation-System-master%20%281%29/Intelligent-Travel-Recommendation-System-master/attraction_etl.ipynb#X10sZmlsZQ%3D%3D?line=5'>6</a>\u001b[0m avg_rat_df \u001b[39m=\u001b[39m avg_rat_df\u001b[39m.\u001b[39mwithColumn(\u001b[39m'\u001b[39m\u001b[39mupdated_rating\u001b[39m\u001b[39m'\u001b[39m,round_udf(avg_rat_df\u001b[39m.\u001b[39mavg_rating))\u001b[39m.\u001b[39mdrop(\u001b[39m'\u001b[39m\u001b[39mavg_rating\u001b[39m\u001b[39m'\u001b[39m)\n",
      "File \u001b[1;32m~\\AppData\\Local\\Packages\\PythonSoftwareFoundation.Python.3.11_qbz5n2kfra8p0\\LocalCache\\local-packages\\Python311\\site-packages\\pyspark\\sql\\session.py:1631\u001b[0m, in \u001b[0;36mSparkSession.sql\u001b[1;34m(self, sqlQuery, args, **kwargs)\u001b[0m\n\u001b[0;32m   1627\u001b[0m         \u001b[39massert\u001b[39;00m \u001b[39mself\u001b[39m\u001b[39m.\u001b[39m_jvm \u001b[39mis\u001b[39;00m \u001b[39mnot\u001b[39;00m \u001b[39mNone\u001b[39;00m\n\u001b[0;32m   1628\u001b[0m         litArgs \u001b[39m=\u001b[39m \u001b[39mself\u001b[39m\u001b[39m.\u001b[39m_jvm\u001b[39m.\u001b[39mPythonUtils\u001b[39m.\u001b[39mtoArray(\n\u001b[0;32m   1629\u001b[0m             [_to_java_column(lit(v)) \u001b[39mfor\u001b[39;00m v \u001b[39min\u001b[39;00m (args \u001b[39mor\u001b[39;00m [])]\n\u001b[0;32m   1630\u001b[0m         )\n\u001b[1;32m-> 1631\u001b[0m     \u001b[39mreturn\u001b[39;00m DataFrame(\u001b[39mself\u001b[39;49m\u001b[39m.\u001b[39;49m_jsparkSession\u001b[39m.\u001b[39;49msql(sqlQuery, litArgs), \u001b[39mself\u001b[39m)\n\u001b[0;32m   1632\u001b[0m \u001b[39mfinally\u001b[39;00m:\n\u001b[0;32m   1633\u001b[0m     \u001b[39mif\u001b[39;00m \u001b[39mlen\u001b[39m(kwargs) \u001b[39m>\u001b[39m \u001b[39m0\u001b[39m:\n",
      "File \u001b[1;32m~\\AppData\\Local\\Packages\\PythonSoftwareFoundation.Python.3.11_qbz5n2kfra8p0\\LocalCache\\local-packages\\Python311\\site-packages\\py4j\\java_gateway.py:1322\u001b[0m, in \u001b[0;36mJavaMember.__call__\u001b[1;34m(self, *args)\u001b[0m\n\u001b[0;32m   1316\u001b[0m command \u001b[39m=\u001b[39m proto\u001b[39m.\u001b[39mCALL_COMMAND_NAME \u001b[39m+\u001b[39m\\\n\u001b[0;32m   1317\u001b[0m     \u001b[39mself\u001b[39m\u001b[39m.\u001b[39mcommand_header \u001b[39m+\u001b[39m\\\n\u001b[0;32m   1318\u001b[0m     args_command \u001b[39m+\u001b[39m\\\n\u001b[0;32m   1319\u001b[0m     proto\u001b[39m.\u001b[39mEND_COMMAND_PART\n\u001b[0;32m   1321\u001b[0m answer \u001b[39m=\u001b[39m \u001b[39mself\u001b[39m\u001b[39m.\u001b[39mgateway_client\u001b[39m.\u001b[39msend_command(command)\n\u001b[1;32m-> 1322\u001b[0m return_value \u001b[39m=\u001b[39m get_return_value(\n\u001b[0;32m   1323\u001b[0m     answer, \u001b[39mself\u001b[39;49m\u001b[39m.\u001b[39;49mgateway_client, \u001b[39mself\u001b[39;49m\u001b[39m.\u001b[39;49mtarget_id, \u001b[39mself\u001b[39;49m\u001b[39m.\u001b[39;49mname)\n\u001b[0;32m   1325\u001b[0m \u001b[39mfor\u001b[39;00m temp_arg \u001b[39min\u001b[39;00m temp_args:\n\u001b[0;32m   1326\u001b[0m     \u001b[39mif\u001b[39;00m \u001b[39mhasattr\u001b[39m(temp_arg, \u001b[39m\"\u001b[39m\u001b[39m_detach\u001b[39m\u001b[39m\"\u001b[39m):\n",
      "File \u001b[1;32m~\\AppData\\Local\\Packages\\PythonSoftwareFoundation.Python.3.11_qbz5n2kfra8p0\\LocalCache\\local-packages\\Python311\\site-packages\\pyspark\\errors\\exceptions\\captured.py:185\u001b[0m, in \u001b[0;36mcapture_sql_exception.<locals>.deco\u001b[1;34m(*a, **kw)\u001b[0m\n\u001b[0;32m    181\u001b[0m converted \u001b[39m=\u001b[39m convert_exception(e\u001b[39m.\u001b[39mjava_exception)\n\u001b[0;32m    182\u001b[0m \u001b[39mif\u001b[39;00m \u001b[39mnot\u001b[39;00m \u001b[39misinstance\u001b[39m(converted, UnknownException):\n\u001b[0;32m    183\u001b[0m     \u001b[39m# Hide where the exception came from that shows a non-Pythonic\u001b[39;00m\n\u001b[0;32m    184\u001b[0m     \u001b[39m# JVM exception message.\u001b[39;00m\n\u001b[1;32m--> 185\u001b[0m     \u001b[39mraise\u001b[39;00m converted \u001b[39mfrom\u001b[39;00m \u001b[39mNone\u001b[39;00m\n\u001b[0;32m    186\u001b[0m \u001b[39melse\u001b[39;00m:\n\u001b[0;32m    187\u001b[0m     \u001b[39mraise\u001b[39;00m\n",
      "\u001b[1;31mAnalysisException\u001b[0m: [UNRESOLVED_COLUMN.WITH_SUGGESTION] A column or function parameter with name `category` cannot be resolved. Did you mean one of the following? [`city`, `country`, `location`, `name`, `rating`].; line 1 pos 17;\n'Aggregate [province#6, 'category], [province#6, 'category, avg(rating#7) AS avg_rating#98]\n+- Filter NOT (rating#7 = cast(-1 as double))\n   +- SubqueryAlias out_df\n      +- View (`out_df`, [attraction_id#0L,city#31,country#41,location#3,name#4,price#5,province#6,rating#7])\n         +- Union false, false\n            :- Filter isnotnull(rating#7)\n            :  +- Project [attraction_id#0L, city#31, <lambda>(country#2)#40 AS country#41, location#3, name#4, price#5, province#6, rating#7]\n            :     +- Project [attraction_id#0L, <lambda>(city#1)#30 AS city#31, country#2, location#3, name#4, price#5, province#6, rating#7]\n            :        +- Relation [attraction_id#0L,city#1,country#2,location#3,name#4,price#5,province#6,rating#7] parquet\n            +- Project [attraction_id#67L, city#68, country#69, location#70, name#71, price#72, province#73, cast(rating#74 as double) AS rating#75]\n               +- Project [attraction_id#59L AS attraction_id#67L, city#31 AS city#68, country#41 AS country#69, location#62 AS location#70, name#63 AS name#71, price#64 AS price#72, province#65 AS province#73, rating#50 AS rating#74]\n                  +- Project [attraction_id#59L, city#31, country#41, location#62, name#63, price#64, province#65, -1 AS rating#50]\n                     +- Filter isnull(rating#66)\n                        +- Project [attraction_id#59L, city#31, <lambda>(country#61)#40 AS country#41, location#62, name#63, price#64, province#65, rating#66]\n                           +- Project [attraction_id#59L, <lambda>(city#60)#30 AS city#31, country#61, location#62, name#63, price#64, province#65, rating#66]\n                              +- Relation [attraction_id#59L,city#60,country#61,location#62,name#63,price#64,province#65,rating#66] parquet\n"
     ]
    }
   ],
   "source": [
    "def myround(x, base=.5):\n",
    "    return float(round(x/base)*base)\n",
    "\n",
    "avg_rat_df = spark.sql(\"SELECT province, category, AVG(rating) as avg_rating FROM out_df WHERE rating != -1 GROUP BY province, category\")\n",
    "round_udf = functions.udf(lambda x: myround(x), FloatType())\n",
    "avg_rat_df = avg_rat_df.withColumn('updated_rating',round_udf(avg_rat_df.avg_rating)).drop('avg_rating')\n",
    "\n",
    "out_df = out_df.join(avg_rat_df, ['province','category'],'left').orderBy('attraction_id')\n",
    "out_df = out_df.withColumn(\"rating\", functions.when(out_df[\"rating\"]== -1, out_df[\"updated_rating\"]).otherwise(out_df[\"rating\"])).drop('updated_rating')\n",
    "\n",
    "out_df.createOrReplaceTempView('out_df')\n",
    "display(out_df.count())"
   ]
  },
  {
   "cell_type": "code",
   "execution_count": null,
   "metadata": {},
   "outputs": [],
   "source": [
    "avg_price_df = spark.sql(\"SELECT province, category, AVG(price) as avg_price FROM out_df WHERE price > 0 GROUP BY province, category\")\n",
    "round_price_udf = functions.udf(lambda x: round(x,2), FloatType())\n",
    "avg_price_df = avg_price_df.withColumn('updated_price', round_price_udf(avg_price_df[\"avg_price\"]))\n",
    "\n",
    "upd_price_df = out_df.join(avg_price_df, ['province','category'],'left_outer').orderBy('attraction_id')\n",
    "det_df = upd_price_df.withColumn(\"price\", functions.when(det_df[\"price\"] == -1.00, upd_price_df[\"updated_price\"]).otherwise(upd_price_df[\"price\"])).drop('updated_price')\n",
    "\n",
    "det_df.createOrReplaceTempView('det_df')\n",
    "display(det_df.count())"
   ]
  },
  {
   "cell_type": "code",
   "execution_count": null,
   "metadata": {},
   "outputs": [],
   "source": [
    "def find_loc(x):\n",
    "    toOut = re.findall('[+,-]*\\d+\\.\\d+',x)\n",
    "    if len(toOut) == 0:\n",
    "        return [None,None]\n",
    "    else:\n",
    "        return [float(x) for x in toOut]\n",
    "\n",
    "loc_udf = functions.udf(lambda x: find_loc(x), ArrayType(FloatType()))\n",
    "det_loc_df = det_df.withColumn('location', loc_udf(det_df.location)).orderBy('attraction_id')\n",
    "det_loc_df = det_loc_df.withColumn('latitude',det_loc_df.location[0]).withColumn('longitude',det_loc_df.location[1]).drop('location')\n",
    "\n",
    "display(det_loc_df.count())\n",
    "det_loc_df.createOrReplaceTempView('det_loc_df')"
   ]
  },
  {
   "cell_type": "code",
   "execution_count": null,
   "metadata": {},
   "outputs": [],
   "source": [
    "det_loc_df.createOrReplaceTempView('det_loc_df')\n",
    "avg_cc_loc = spark.sql(\"SELECT city, category, AVG(latitude) as cc_lat, AVG(longitude) as cc_lon FROM det_loc_df WHERE ISNULL(latitude) = false AND ISNULL(longitude) = false GROUP BY city, category\")\n",
    "\n",
    "det_avgloc_df = det_loc_df.join(avg_cc_loc, ['city','category'],'left_outer')\n",
    "det_avgloc_df = det_avgloc_df.withColumn('latitude', functions.when(det_avgloc_df['latitude'].isNull(),det_avgloc_df['cc_lat']).otherwise(det_avgloc_df['latitude'])).withColumn('longitude', functions.when(det_avgloc_df['longitude'].isNull(),det_avgloc_df['cc_lon']).otherwise(det_avgloc_df['longitude'])).drop(det_avgloc_df['cc_lat']).drop(det_avgloc_df['cc_lon']).orderBy('attraction_id')\n",
    "\n",
    "display(det_avgloc_df.count())\n",
    "display(det_avgloc_df.toPandas().head(11))"
   ]
  },
  {
   "cell_type": "code",
   "execution_count": null,
   "metadata": {},
   "outputs": [],
   "source": [
    "# insert your google maps api key below\n",
    "def get_loc(address, position, maps_key='----'):\n",
    "    maps_api_url = 'https://maps.googleapis.com/maps/api/geocode/json'\n",
    "    request_url = maps_api_url + '?' + urllib.parse.urlencode({'address':address,'key':maps_key})\n",
    "    response = requests.get(request_url)\n",
    "    resp_json_payload = response.json()\n",
    "    out = resp_json_payload['results'][0]['geometry']['location']\n",
    "    if position == 'latitude':\n",
    "        return float(out['lat'])\n",
    "    elif position == 'longitude':\n",
    "        return float(out['lng'])\n",
    "\n",
    "get_lat_udf = functions.udf(lambda x: get_loc(x,'latitude'), FloatType())\n",
    "get_lon_udf = functions.udf(lambda x: get_loc(x,'longitude'), FloatType())\n",
    "det_avgloc_df = det_avgloc_df.withColumn('latitude',functions.when(det_avgloc_df['latitude'].isNull(),get_lat_udf(det_avgloc_df['city']+','+det_avgloc_df['province'])).otherwise(det_avgloc_df['latitude']))\n",
    "det_avgloc_df = det_avgloc_df.withColumn('longitude',functions.when(det_avgloc_df['longitude'].isNull(),get_lon_udf(det_avgloc_df['city']+','+det_avgloc_df['province'])).otherwise(det_avgloc_df['longitude']))\n",
    "\n",
    "display(det_avgloc_df.count())"
   ]
  },
  {
   "cell_type": "code",
   "execution_count": null,
   "metadata": {},
   "outputs": [],
   "source": [
    "det_avgloc_df.coalesce(8).write.parquet('etl/attractions',mode='overwrite')\n",
    "det_avg_log.toPandas().to_json('etl/attractions.json',orient='records',index=True)"
   ]
  },
  {
   "cell_type": "code",
   "execution_count": null,
   "metadata": {},
   "outputs": [],
   "source": [
    "rev_df = spark.read.parquet(rev_path).repartition(160)\n",
    "display(rev_df.count())\n",
    "display(rev_df.show())"
   ]
  },
  {
   "cell_type": "code",
   "execution_count": null,
   "metadata": {},
   "outputs": [],
   "source": [
    "def convert_date(ip_date):\n",
    "    try:\n",
    "        op_date = dt.strptime(ip_date, \"%B %d, %Y\").strftime(\"%d-%m-%Y\")\n",
    "        return op_date\n",
    "    except:\n",
    "        return ip_date\n",
    "convert_df_udf = functions.udf(lambda x: convert_date(x),StringType())\n",
    "out_df = rev_df.withColumn('review_date',convert_df_udf(rev_df['review_date']))\n",
    "out_df.createOrReplaceTempView('rev_df')"
   ]
  },
  {
   "cell_type": "code",
   "execution_count": null,
   "metadata": {},
   "outputs": [],
   "source": [
    "out_df.show()"
   ]
  },
  {
   "cell_type": "code",
   "execution_count": null,
   "metadata": {},
   "outputs": [],
   "source": [
    "user_rev_count = spark.sql(\"SELECT user, COUNT(*) as rev_count FROM rev_df GROUP BY user ORDER BY rev_count DESC\")\n",
    "user_rev_count.show()"
   ]
  },
  {
   "cell_type": "code",
   "execution_count": null,
   "metadata": {},
   "outputs": [],
   "source": [
    "print( \"Reviews are available for {att_no} attractions.\".format(att_no = len(rev_df.select('attraction_id').distinct().collect())))\n",
    "print( \"Matrix will be higly sparse as the maximum number of reviews provided by an user is {val}.\".format(val=user_rev_count.select('rev_count').limit(1).collect()[0][0]))"
   ]
  },
  {
   "cell_type": "code",
   "execution_count": null,
   "metadata": {},
   "outputs": [],
   "source": [
    "user_df = user_rev_count.toPandas()\n",
    "user_df['user_id'] = user_df.index\n",
    "user_rev = spark.createDataFrame(user_df)\n",
    "rev_etled = out_df.join(user_rev.drop('rev_count'),'user')"
   ]
  },
  {
   "cell_type": "code",
   "execution_count": null,
   "metadata": {
    "scrolled": true
   },
   "outputs": [],
   "source": [
    "rev_etled.coalesce(8).write.parquet('etl/attraction_reviews', mode = 'overwrite')\n",
    "rev_etled.toPandas().to_json('etl/attraction_reviews.json',orient='records',index=True)"
   ]
  }
 ],
 "metadata": {
  "kernelspec": {
   "display_name": "Python 3",
   "language": "python",
   "name": "python3"
  },
  "language_info": {
   "codemirror_mode": {
    "name": "ipython",
    "version": 3
   },
   "file_extension": ".py",
   "mimetype": "text/x-python",
   "name": "python",
   "nbconvert_exporter": "python",
   "pygments_lexer": "ipython3",
   "version": "3.11.6"
  }
 },
 "nbformat": 4,
 "nbformat_minor": 2
}
