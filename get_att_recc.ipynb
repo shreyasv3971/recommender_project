{
 "cells": [
  {
   "cell_type": "code",
   "execution_count": 1,
   "metadata": {},
   "outputs": [],
   "source": [
    "from attractions_recc import *\n",
    "from IPython.display import display\n",
    "import ipywidgets as w\n",
    "import pandas as pd\n",
    "import re"
   ]
  },
  {
   "cell_type": "code",
   "execution_count": 2,
   "metadata": {},
   "outputs": [],
   "source": [
    "att_df = pd.read_json('etl/attractions.json',orient='records')"
   ]
  },
  {
   "cell_type": "markdown",
   "metadata": {},
   "source": [
    "## User details and Preferences"
   ]
  },
  {
   "cell_type": "code",
   "execution_count": 3,
   "metadata": {
    "cell_style": "center"
   },
   "outputs": [
    {
     "data": {
      "application/vnd.jupyter.widget-view+json": {
       "model_id": "214522294d374d1baaeb9f751fc501d4",
       "version_major": 2,
       "version_minor": 0
      },
      "text/plain": [
       "HBox(children=(VBox(children=(Text(value='', description='User Name'), Text(value='Province', description='Des…"
      ]
     },
     "metadata": {},
     "output_type": "display_data"
    }
   ],
   "source": [
    "uname = w.Text(description=\"User Name\")\n",
    "place = w.Text(value = 'Province',  description=\"Destination\")\n",
    "budget = w.IntRangeSlider(min=att_df.price.min(), max=att_df.price.max(),step=10,value=[att_df.price.min(),att_df.price.max()],description=\"Budget\")\n",
    "v1 = w.VBox([uname,place,budget])\n",
    "start = w.DatePicker(description='Start Date',disabled=False)\n",
    "end = w.DatePicker(description='End Date',disabled=False)\n",
    "v2 = w.VBox([start,end])\n",
    "out = w.HBox([v1,v2])\n",
    "display(out)"
   ]
  },
  {
   "cell_type": "code",
   "execution_count": 4,
   "metadata": {},
   "outputs": [
    {
     "name": "stdout",
     "output_type": "stream",
     "text": [
      "Select and rate atleast 5 categories and rate them:\n"
     ]
    },
    {
     "data": {
      "application/vnd.jupyter.widget-view+json": {
       "model_id": "68b2f6c55f1a4b65933124f0b2fcad39",
       "version_major": 2,
       "version_minor": 0
      },
      "text/plain": [
       "HBox(children=(VBox(children=(Button(description='private_&_custom_tours', layout=Layout(height='100px', width…"
      ]
     },
     "metadata": {},
     "output_type": "display_data"
    },
    {
     "name": "stdout",
     "output_type": "stream",
     "text": [
      "tours_&_sightseeing\n"
     ]
    },
    {
     "data": {
      "application/vnd.jupyter.widget-view+json": {
       "model_id": "cd71fac01c0146daad40d13a45247db8",
       "version_major": 2,
       "version_minor": 0
      },
      "text/plain": [
       "IntSlider(value=0, description='Rate', max=5)"
      ]
     },
     "metadata": {},
     "output_type": "display_data"
    },
    {
     "name": "stdout",
     "output_type": "stream",
     "text": [
      "Rate 4 more!\n",
      "\n",
      "water_sports\n"
     ]
    },
    {
     "data": {
      "application/vnd.jupyter.widget-view+json": {
       "model_id": "4fba4c9f15184359adb83dca4855d605",
       "version_major": 2,
       "version_minor": 0
      },
      "text/plain": [
       "IntSlider(value=0, description='Rate', max=5)"
      ]
     },
     "metadata": {},
     "output_type": "display_data"
    },
    {
     "name": "stdout",
     "output_type": "stream",
     "text": [
      "Rate 3 more!\n",
      "\n",
      "outdoor_activities\n"
     ]
    },
    {
     "data": {
      "application/vnd.jupyter.widget-view+json": {
       "model_id": "db6ad9c13226465e82d6e7e7f48d1f7a",
       "version_major": 2,
       "version_minor": 0
      },
      "text/plain": [
       "IntSlider(value=0, description='Rate', max=5)"
      ]
     },
     "metadata": {},
     "output_type": "display_data"
    },
    {
     "name": "stdout",
     "output_type": "stream",
     "text": [
      "Rate 2 more!\n",
      "\n",
      "walking_&_biking_tours\n"
     ]
    },
    {
     "data": {
      "application/vnd.jupyter.widget-view+json": {
       "model_id": "977d4b80a3c44ae1a06c0e7701962f20",
       "version_major": 2,
       "version_minor": 0
      },
      "text/plain": [
       "IntSlider(value=0, description='Rate', max=5)"
      ]
     },
     "metadata": {},
     "output_type": "display_data"
    },
    {
     "name": "stdout",
     "output_type": "stream",
     "text": [
      "Rate 1 more!\n",
      "\n",
      "shows,_concerts_&_sports\n"
     ]
    },
    {
     "data": {
      "application/vnd.jupyter.widget-view+json": {
       "model_id": "1c6b1dfe767f43b0859051875977ba6a",
       "version_major": 2,
       "version_minor": 0
      },
      "text/plain": [
       "IntSlider(value=0, description='Rate', max=5)"
      ]
     },
     "metadata": {},
     "output_type": "display_data"
    }
   ],
   "source": [
    "category_df = att_df.groupby('category').size().reset_index().sort_values([0],ascending=False)[:20]\n",
    "categories = list(category_df.category.values)\n",
    "cat_rat = dict()\n",
    "def on_button_clicked(b):\n",
    "    if b.description in cat_rat:\n",
    "        return\n",
    "    print(b.description)\n",
    "    slider = w.IntSlider(min=0,max=5,step=1,description='Rate')\n",
    "    display(slider)\n",
    "    cat_rat[b.description] = slider\n",
    "    if(len(cat_rat) < 5):\n",
    "        print(\"Rate {x} more!\\n\".format(x=5-len(cat_rat)))\n",
    "    \n",
    "but_layout = w.Layout(width='100%', height='100px')\n",
    "but_items = [w.Button(description=c, layout=but_layout) for c in categories]\n",
    "on_clk = [item.on_click(on_button_clicked) for item in but_items]\n",
    "c1 = w.VBox([i for i in but_items[:4]])\n",
    "c2 = w.VBox([i for i in but_items[4:8]])\n",
    "c3 = w.VBox([i for i in but_items[8:12]])\n",
    "c4 = w.VBox([i for i in but_items[12:16]])\n",
    "c5 = w.VBox([i for i in but_items[16:]])\n",
    "buttons = w.HBox([c1,c2,c3,c4,c5])\n",
    "print(\"Select and rate atleast 5 categories and rate them:\")\n",
    "display(buttons)"
   ]
  },
  {
   "cell_type": "code",
   "execution_count": 5,
   "metadata": {},
   "outputs": [],
   "source": [
    "user_name = re.sub(' ','_',uname.value.lower())\n",
    "province = re.sub(' ','_',place.value.lower())\n",
    "(low,high) = tuple([float(i) for i in budget.value])\n",
    "begin_date = start.value\n",
    "end_date = end.value\n",
    "cat_rating = dict()\n",
    "for key, value in cat_rat.items():\n",
    "    cat_rating[key] = float(value.value)"
   ]
  },
  {
   "cell_type": "markdown",
   "metadata": {},
   "source": [
    "## Model recommendation and filtering"
   ]
  },
  {
   "cell_type": "code",
   "execution_count": 6,
   "metadata": {
    "scrolled": true
   },
   "outputs": [
    {
     "name": "stdout",
     "output_type": "stream",
     "text": [
      "Reading the data\n",
      "Extracting num_rows from ratings\n",
      "Preprocessing the dataset\n",
      "Similar User: 1\n"
     ]
    },
    {
     "ename": "FileNotFoundError",
     "evalue": "[Errno 2] No such file or directory: 'rbm_models/e50_r40000_lr0.01_hu128_bs16/w.npy'",
     "output_type": "error",
     "traceback": [
      "\u001b[1;31m---------------------------------------------------------------------------\u001b[0m",
      "\u001b[1;31mFileNotFoundError\u001b[0m                         Traceback (most recent call last)",
      "\u001b[1;32mc:\\Users\\shrey\\Downloads\\Intelligent-Travel-Recommendation-System-master (1)\\Intelligent-Travel-Recommendation-System-master\\get_att_recc.ipynb Cell 8\u001b[0m line \u001b[0;36m1\n\u001b[1;32m----> <a href='vscode-notebook-cell:/c%3A/Users/shrey/Downloads/Intelligent-Travel-Recommendation-System-master%20%281%29/Intelligent-Travel-Recommendation-System-master/get_att_recc.ipynb#X10sZmlsZQ%3D%3D?line=0'>1</a>\u001b[0m filename, user, rbm_att \u001b[39m=\u001b[39m get_recc(att_df, cat_rating)\n\u001b[0;32m      <a href='vscode-notebook-cell:/c%3A/Users/shrey/Downloads/Intelligent-Travel-Recommendation-System-master%20%281%29/Intelligent-Travel-Recommendation-System-master/get_att_recc.ipynb#X10sZmlsZQ%3D%3D?line=1'>2</a>\u001b[0m with_url \u001b[39m=\u001b[39m filter_df(filename, user, low, high, province, att_df)\n",
      "File \u001b[1;32mc:\\Users\\shrey\\Downloads\\Intelligent-Travel-Recommendation-System-master (1)\\Intelligent-Travel-Recommendation-System-master\\attractions_recc.py:69\u001b[0m, in \u001b[0;36mget_recc\u001b[1;34m(att_df, cat_rating)\u001b[0m\n\u001b[0;32m     67\u001b[0m \u001b[39mprint\u001b[39m(\u001b[39m\"\u001b[39m\u001b[39mSimilar User: \u001b[39m\u001b[39m{u}\u001b[39;00m\u001b[39m\"\u001b[39m\u001b[39m.\u001b[39mformat(u\u001b[39m=\u001b[39muser))\n\u001b[0;32m     68\u001b[0m filename \u001b[39m=\u001b[39m \u001b[39m\"\u001b[39m\u001b[39me\u001b[39m\u001b[39m\"\u001b[39m\u001b[39m+\u001b[39m\u001b[39mstr\u001b[39m(epochs)\u001b[39m+\u001b[39m\u001b[39m\"\u001b[39m\u001b[39m_r\u001b[39m\u001b[39m\"\u001b[39m\u001b[39m+\u001b[39m\u001b[39mstr\u001b[39m(rows)\u001b[39m+\u001b[39m\u001b[39m\"\u001b[39m\u001b[39m_lr\u001b[39m\u001b[39m\"\u001b[39m\u001b[39m+\u001b[39m\u001b[39mstr\u001b[39m(alpha)\u001b[39m+\u001b[39m\u001b[39m\"\u001b[39m\u001b[39m_hu\u001b[39m\u001b[39m\"\u001b[39m\u001b[39m+\u001b[39m\u001b[39mstr\u001b[39m(H)\u001b[39m+\u001b[39m\u001b[39m\"\u001b[39m\u001b[39m_bs\u001b[39m\u001b[39m\"\u001b[39m\u001b[39m+\u001b[39m\u001b[39mstr\u001b[39m(batch_size)\n\u001b[1;32m---> 69\u001b[0m reco, weights, vb, hb \u001b[39m=\u001b[39m rbm\u001b[39m.\u001b[39;49mload_predict(filename,train,user)\n\u001b[0;32m     70\u001b[0m unseen, seen \u001b[39m=\u001b[39m rbm\u001b[39m.\u001b[39mcalculate_scores(ratings, attractions, reco, user)\n\u001b[0;32m     71\u001b[0m rbm\u001b[39m.\u001b[39mexport(unseen, seen, \u001b[39m'\u001b[39m\u001b[39mrbm_models/\u001b[39m\u001b[39m'\u001b[39m\u001b[39m+\u001b[39mfilename, \u001b[39mstr\u001b[39m(user))\n",
      "File \u001b[1;32mc:\\Users\\shrey\\Downloads\\Intelligent-Travel-Recommendation-System-master (1)\\Intelligent-Travel-Recommendation-System-master\\rbm.py:138\u001b[0m, in \u001b[0;36mRBM.load_predict\u001b[1;34m(self, filename, train, user)\u001b[0m\n\u001b[0;32m    134\u001b[0m W \u001b[39m=\u001b[39m tf\u001b[39m.\u001b[39mcompat\u001b[39m.\u001b[39mv1\u001b[39m.\u001b[39mplaceholder_with_default(tf\u001b[39m.\u001b[39mconstant(\u001b[39m0.0\u001b[39m, dtype\u001b[39m=\u001b[39mtf\u001b[39m.\u001b[39mfloat32, shape\u001b[39m=\u001b[39m[\u001b[39mself\u001b[39m\u001b[39m.\u001b[39mnum_vis, \u001b[39mself\u001b[39m\u001b[39m.\u001b[39mnum_hid]), [])  \u001b[39m# Weight Matrix\u001b[39;00m\n\u001b[0;32m    135\u001b[0m v0 \u001b[39m=\u001b[39m tf\u001b[39m.\u001b[39mcompat\u001b[39m.\u001b[39mv1\u001b[39m.\u001b[39mplaceholder_with_default(tf\u001b[39m.\u001b[39mconstant(\u001b[39m0.0\u001b[39m, dtype\u001b[39m=\u001b[39mtf\u001b[39m.\u001b[39mfloat32), [\u001b[39mNone\u001b[39;00m, \u001b[39mself\u001b[39m\u001b[39m.\u001b[39mnum_vis])\n\u001b[1;32m--> 138\u001b[0m prv_w \u001b[39m=\u001b[39m np\u001b[39m.\u001b[39;49mload(\u001b[39m'\u001b[39;49m\u001b[39mrbm_models/\u001b[39;49m\u001b[39m'\u001b[39;49m\u001b[39m+\u001b[39;49mfilename\u001b[39m+\u001b[39;49m\u001b[39m'\u001b[39;49m\u001b[39m/w.npy\u001b[39;49m\u001b[39m'\u001b[39;49m)\n\u001b[0;32m    139\u001b[0m prv_vb \u001b[39m=\u001b[39m np\u001b[39m.\u001b[39mload(\u001b[39m'\u001b[39m\u001b[39mrbm_models/\u001b[39m\u001b[39m'\u001b[39m\u001b[39m+\u001b[39mfilename\u001b[39m+\u001b[39m\u001b[39m'\u001b[39m\u001b[39m/vb.npy\u001b[39m\u001b[39m'\u001b[39m)\n\u001b[0;32m    140\u001b[0m prv_hb \u001b[39m=\u001b[39m np\u001b[39m.\u001b[39mload(\u001b[39m'\u001b[39m\u001b[39mrbm_models/\u001b[39m\u001b[39m'\u001b[39m\u001b[39m+\u001b[39mfilename\u001b[39m+\u001b[39m\u001b[39m'\u001b[39m\u001b[39m/hb.npy\u001b[39m\u001b[39m'\u001b[39m)\n",
      "File \u001b[1;32m~\\AppData\\Local\\Packages\\PythonSoftwareFoundation.Python.3.11_qbz5n2kfra8p0\\LocalCache\\local-packages\\Python311\\site-packages\\numpy\\lib\\npyio.py:427\u001b[0m, in \u001b[0;36mload\u001b[1;34m(file, mmap_mode, allow_pickle, fix_imports, encoding, max_header_size)\u001b[0m\n\u001b[0;32m    425\u001b[0m     own_fid \u001b[39m=\u001b[39m \u001b[39mFalse\u001b[39;00m\n\u001b[0;32m    426\u001b[0m \u001b[39melse\u001b[39;00m:\n\u001b[1;32m--> 427\u001b[0m     fid \u001b[39m=\u001b[39m stack\u001b[39m.\u001b[39menter_context(\u001b[39mopen\u001b[39;49m(os_fspath(file), \u001b[39m\"\u001b[39;49m\u001b[39mrb\u001b[39;49m\u001b[39m\"\u001b[39;49m))\n\u001b[0;32m    428\u001b[0m     own_fid \u001b[39m=\u001b[39m \u001b[39mTrue\u001b[39;00m\n\u001b[0;32m    430\u001b[0m \u001b[39m# Code to distinguish from NumPy binary files and pickles.\u001b[39;00m\n",
      "\u001b[1;31mFileNotFoundError\u001b[0m: [Errno 2] No such file or directory: 'rbm_models/e50_r40000_lr0.01_hu128_bs16/w.npy'"
     ]
    }
   ],
   "source": [
    "filename, user, rbm_att = get_recc(att_df, cat_rating)\n",
    "with_url = filter_df(filename, user, low, high, province, att_df)"
   ]
  },
  {
   "cell_type": "code",
   "execution_count": null,
   "metadata": {},
   "outputs": [],
   "source": [
    "%%capture\n",
    "final = dict()\n",
    "final['timeofday'] = []\n",
    "final['image'] = []\n",
    "final['name'] = []\n",
    "final['location'] = []\n",
    "final['price'] = []\n",
    "final['rating'] = []\n",
    "final['category'] = []\n",
    "\n",
    "for i in range(1,(end_date - begin_date).days+2):\n",
    "    for j in range(2):\n",
    "        final['timeofday'].append('Morning')\n",
    "    for j in range(2):\n",
    "        final['timeofday'].append('Evening')\n",
    "\n",
    "for i in range(len(final['timeofday'])): \n",
    "    if i%4 == 0: \n",
    "        final = top_recc(with_url, final)\n",
    "    else:\n",
    "        final = find_closest(with_url, final['location'][-1],final['timeofday'][i], final)"
   ]
  },
  {
   "cell_type": "markdown",
   "metadata": {},
   "source": [
    "## Final Output"
   ]
  },
  {
   "cell_type": "code",
   "execution_count": null,
   "metadata": {},
   "outputs": [
    {
     "ename": "NameError",
     "evalue": "name 'end_date' is not defined",
     "output_type": "error",
     "traceback": [
      "\u001b[1;31m---------------------------------------------------------------------------\u001b[0m",
      "\u001b[1;31mNameError\u001b[0m                                 Traceback (most recent call last)",
      "\u001b[1;32mc:\\Users\\shrey\\Downloads\\Intelligent-Travel-Recommendation-System-master (1)\\Intelligent-Travel-Recommendation-System-master\\get_att_recc.ipynb Cell 11\u001b[0m line \u001b[0;36m1\n\u001b[1;32m----> <a href='vscode-notebook-cell:/c%3A/Users/shrey/Downloads/Intelligent-Travel-Recommendation-System-master%20%281%29/Intelligent-Travel-Recommendation-System-master/get_att_recc.ipynb#X13sZmlsZQ%3D%3D?line=0'>1</a>\u001b[0m days \u001b[39m=\u001b[39m (end_date \u001b[39m-\u001b[39m begin_date)\u001b[39m.\u001b[39mdays \u001b[39m+\u001b[39m \u001b[39m1\u001b[39m\n\u001b[0;32m      <a href='vscode-notebook-cell:/c%3A/Users/shrey/Downloads/Intelligent-Travel-Recommendation-System-master%20%281%29/Intelligent-Travel-Recommendation-System-master/get_att_recc.ipynb#X13sZmlsZQ%3D%3D?line=1'>2</a>\u001b[0m display(final_output(days,final))\n",
      "\u001b[1;31mNameError\u001b[0m: name 'end_date' is not defined"
     ]
    }
   ],
   "source": [
    "days = (end_date - begin_date).days + 1\n",
    "display(final_output(days,final))"
   ]
  }
 ],
 "metadata": {
  "hide_input": false,
  "kernelspec": {
   "display_name": "Python 3",
   "language": "python",
   "name": "python3"
  },
  "language_info": {
   "codemirror_mode": {
    "name": "ipython",
    "version": 3
   },
   "file_extension": ".py",
   "mimetype": "text/x-python",
   "name": "python",
   "nbconvert_exporter": "python",
   "pygments_lexer": "ipython3",
   "version": "3.11.6"
  }
 },
 "nbformat": 4,
 "nbformat_minor": 2
}
